{
 "cells": [
  {
   "cell_type": "code",
   "execution_count": 1,
   "metadata": {
    "collapsed": false
   },
   "outputs": [],
   "source": [
    "from bib2html import Entry\n",
    "import re\n",
    "bibfilename = '../../../bib/everything.bib'\n",
    "class KeyNotInBib(Exception):\n",
    "    pass"
   ]
  },
  {
   "cell_type": "code",
   "execution_count": 3,
   "metadata": {
    "collapsed": true
   },
   "outputs": [],
   "source": [
    "def locateinbib(key):\n",
    "    data = open(bibfilename).read()\n",
    "    m = re.search('^@.*{' + key + ',$', data, re.MULTILINE)\n",
    "    if m is not None:\n",
    "        return m.start(0)\n",
    "    else:\n",
    "        raise KeyNotInBib"
   ]
  },
  {
   "cell_type": "code",
   "execution_count": 4,
   "metadata": {
    "collapsed": true
   },
   "outputs": [],
   "source": [
    "def bibquery(key):\n",
    "    #try:\n",
    "    ps = locateinbib(key)\n",
    "    data = open(bibfilename).read()\n",
    "    pattern = re.compile('^}$', re.MULTILINE)\n",
    "    pe = pattern.search(data, ps).start(0)\n",
    "    lines = data[ps : pe].split('\\n')\n",
    "    #print(lines)\n",
    "    e = Entry()\n",
    "    e.type = re.search('@(\\w+){', lines[0]).group(1).lower()\n",
    "    for s in lines[1:-1]:\n",
    "        fieldname = re.search('^\\s*(\\w+?)\\s*=', s).group(1).lower()\n",
    "        fieldtext = re.search('=\\s*(.*)\\s*', s).group(1)\n",
    "        setattr(e, fieldname, fieldtext)\n",
    "    return e\n",
    "    #except KeyNotInBib:\n",
    "        #print('exception!')"
   ]
  },
  {
   "cell_type": "code",
   "execution_count": 5,
   "metadata": {
    "collapsed": true
   },
   "outputs": [],
   "source": [
    "def htmlfrombibkey(key):\n",
    "    try:\n",
    "        e = bibquery(key)\n",
    "        e.clean()\n",
    "        return e.write()\n",
    "    except KeyNotInBib:\n",
    "        print('can not find ' + key + ' in bib!')"
   ]
  },
  {
   "cell_type": "code",
   "execution_count": 6,
   "metadata": {
    "collapsed": true
   },
   "outputs": [],
   "source": [
    "def bibkeylist2htmlfile(fn, keys):\n",
    "    f = open(fn, 'w')\n",
    "    for key in keys:\n",
    "        f.write(htmlfrombibkey(key))"
   ]
  },
  {
   "cell_type": "markdown",
   "metadata": {},
   "source": [
    "# Scratch book"
   ]
  },
  {
   "cell_type": "code",
   "execution_count": 68,
   "metadata": {
    "collapsed": true
   },
   "outputs": [
    {
     "ename": "NameError",
     "evalue": "name 'WeirdError' is not defined",
     "output_type": "error",
     "traceback": [
      "\u001b[0;31m---------------------------------------------------------------------------\u001b[0m",
      "\u001b[0;31mNameError\u001b[0m                                 Traceback (most recent call last)",
      "\u001b[0;32m<ipython-input-68-5b82bc308f65>\u001b[0m in \u001b[0;36m<module>\u001b[0;34m()\u001b[0m\n\u001b[1;32m      1\u001b[0m \u001b[0;32mtry\u001b[0m\u001b[0;34m:\u001b[0m\u001b[0;34m\u001b[0m\u001b[0m\n\u001b[0;32m----> 2\u001b[0;31m     \u001b[0;32mraise\u001b[0m \u001b[0mWeirdError\u001b[0m\u001b[0;34m\u001b[0m\u001b[0m\n\u001b[0m\u001b[1;32m      3\u001b[0m \u001b[0;32mexcept\u001b[0m \u001b[0mWeirdError\u001b[0m\u001b[0;34m:\u001b[0m\u001b[0;34m\u001b[0m\u001b[0m\n",
      "\u001b[0;31mNameError\u001b[0m: name 'WeirdError' is not defined",
      "\nDuring handling of the above exception, another exception occurred:\n",
      "\u001b[0;31mNameError\u001b[0m                                 Traceback (most recent call last)",
      "\u001b[0;32m<ipython-input-68-5b82bc308f65>\u001b[0m in \u001b[0;36m<module>\u001b[0;34m()\u001b[0m\n\u001b[1;32m      1\u001b[0m \u001b[0;32mtry\u001b[0m\u001b[0;34m:\u001b[0m\u001b[0;34m\u001b[0m\u001b[0m\n\u001b[1;32m      2\u001b[0m     \u001b[0;32mraise\u001b[0m \u001b[0mWeirdError\u001b[0m\u001b[0;34m\u001b[0m\u001b[0m\n\u001b[0;32m----> 3\u001b[0;31m \u001b[0;32mexcept\u001b[0m \u001b[0mWeirdError\u001b[0m\u001b[0;34m:\u001b[0m\u001b[0;34m\u001b[0m\u001b[0m\n\u001b[0m\u001b[1;32m      4\u001b[0m     \u001b[0mprint\u001b[0m\u001b[0;34m(\u001b[0m\u001b[0;34m'error!'\u001b[0m\u001b[0;34m)\u001b[0m\u001b[0;34m\u001b[0m\u001b[0m\n",
      "\u001b[0;31mNameError\u001b[0m: name 'WeirdError' is not defined"
     ]
    }
   ],
   "source": [
    "try:\n",
    "    raise WeirdError\n",
    "except WeirdError:\n",
    "    print('error!')"
   ]
  },
  {
   "cell_type": "code",
   "execution_count": 59,
   "metadata": {
    "collapsed": false
   },
   "outputs": [
    {
     "data": {
      "text/plain": [
       "False"
      ]
     },
     "execution_count": 59,
     "metadata": {},
     "output_type": "execute_result"
    }
   ],
   "source": [
    "re.search('d', 'a bca c') is not None"
   ]
  },
  {
   "cell_type": "code",
   "execution_count": 10,
   "metadata": {
    "collapsed": false,
    "scrolled": true
   },
   "outputs": [
    {
     "name": "stdout",
     "output_type": "stream",
     "text": [
      "\n",
      "<li>\n",
      "<span class=\"title\">Conditioned random walks and the RSK correspondence</span>,<br><span class=\"author\">N. O'Connell</span>,<br><i>Journal of Physics A: Mathematical and General</i>, Vol. 36, No. 12, p.3049&ndash;3066, March<span class=\"year\"> 2003</span>.</li>\n",
      "\n",
      "\n",
      "<li>\n",
      "<span class=\"title\">Stochastic methods in biology</span>,<br><span class=\"author\">David F. Anderson</span>,<br><span class=\"year\"> 2011</span>.</li>\n",
      "\n",
      "\n",
      "<li>\n",
      "<span class=\"title\">Paths in Weyl chambers and random matrices</span>,<br><span class=\"author\">Philippe Bougerol, Thierry Jeulin</span>,<br><i>Probability theory and related fields</i>, Vol. 124, No. 4, p.517&ndash;543<span class=\"year\"> 2002</span>.</li>\n",
      "\n",
      "\n",
      "<li>\n",
      "<span class=\"title\">Geometric RSK correspondence, Whittaker functions and symmetrized random polymers</span>,<br><span class=\"author\">Neil O'Connell, Timo Seppäläinen, Nikos Zygouras</span>,<br><i>Inventiones mathematicae</i>, Vol. 197, No. 2, p.361&ndash;416, aug<span class=\"year\"> 2014</span>.<br>\n",
      "[&nbsp;<a href=\"http://link.springer.com/10.1007/s00222-013-0485-9\">link</a>&nbsp;]\n",
      "</li>\n",
      "\n",
      "\n",
      "<li>\n",
      "<span class=\"title\">Fluctuation bounds for the asymmetric simple exclusion process</span>,<br><span class=\"author\">M. Bal&aacute;zs, T. Seppäl\\inen</span>,<br><i>ALEA: Latin American Journal of Probability and Mathematical Statistics</i>, Vol. VI, p.1&ndash;24<span class=\"year\"> 2009</span>.</li>\n",
      "\n"
     ]
    }
   ],
   "source": [
    "#bibquery('anderson11')\n",
    "print(htmlfrombibkey('oconnell03a'))\n",
    "print(htmlfrombibkey('anderson11'))\n",
    "print(htmlfrombibkey('bougerol-jeulin02'))\n",
    "print(htmlfrombibkey('oconnell-seppalainen-zygouras14'))\n",
    "print(htmlfrombibkey('balazs-seppalainen09'))"
   ]
  },
  {
   "cell_type": "code",
   "execution_count": 2,
   "metadata": {
    "collapsed": true
   },
   "outputs": [],
   "source": [
    "def findall(s, sub):\n",
    "    t = s\n",
    "    result = []\n",
    "    pos = s.find(sub)\n",
    "    while pos != -1:\n",
    "        result += [pos]\n",
    "        pos = s.find(sub, pos + 1)\n",
    "    return result"
   ]
  },
  {
   "cell_type": "code",
   "execution_count": 3,
   "metadata": {
    "collapsed": false
   },
   "outputs": [
    {
     "data": {
      "text/plain": [
       "'\\n<li>\\n<span class=\"title\">Gravity</span>,<br><span class=\"author\">Issac Newton</span>,<br><span class=\"year\"> 1666</span>.</li>\\n'"
      ]
     },
     "execution_count": 3,
     "metadata": {},
     "output_type": "execute_result"
    }
   ],
   "source": [
    "setattr(e, 'author', 'Issac Newton')\n",
    "setattr(e, 'title', 'Gravity')\n",
    "setattr(e, 'type', 'book')\n",
    "setattr(e, 'year', '1666')\n",
    "e.clean()\n",
    "#edict = e.__dict__\n",
    "#'author' in edict\n",
    "#f = open('test.html', 'w')\n",
    "e.write()"
   ]
  },
  {
   "cell_type": "code",
   "execution_count": 2,
   "metadata": {
    "collapsed": false
   },
   "outputs": [],
   "source": [
    "e = Entry()"
   ]
  },
  {
   "cell_type": "code",
   "execution_count": 8,
   "metadata": {
    "collapsed": true
   },
   "outputs": [],
   "source": [
    "bibkeylist2htmlfile('test.html', ['oconnell03a', 'anderson11', 'bougerol-jeulin02', 'oconnell-seppalainen-zygouras14', 'balazs-seppalainen09'])"
   ]
  },
  {
   "cell_type": "code",
   "execution_count": null,
   "metadata": {
    "collapsed": true
   },
   "outputs": [],
   "source": []
  }
 ],
 "metadata": {
  "kernelspec": {
   "display_name": "Python 3",
   "language": "python",
   "name": "python3"
  },
  "language_info": {
   "codemirror_mode": {
    "name": "ipython",
    "version": 3
   },
   "file_extension": ".py",
   "mimetype": "text/x-python",
   "name": "python",
   "nbconvert_exporter": "python",
   "pygments_lexer": "ipython3",
   "version": "3.6.0"
  }
 },
 "nbformat": 4,
 "nbformat_minor": 2
}
