{
 "cells": [
  {
   "cell_type": "code",
   "execution_count": 1,
   "metadata": {
    "collapsed": false
   },
   "outputs": [],
   "source": [
    "from bib2html import *\n",
    "from proto import *"
   ]
  },
  {
   "cell_type": "code",
   "execution_count": 2,
   "metadata": {
    "collapsed": true
   },
   "outputs": [],
   "source": [
    "def generatereflist(wikiname):\n",
    "    keys = generatekeylist(wikiname)\n",
    "    if keys != []:\n",
    "        result = '<h2>References</h2><ul>'\n",
    "        for key in keys:\n",
    "            result += htmlfrombibkey(key)\n",
    "        result += '</ul>'\n",
    "        return result\n",
    "    return ''\n",
    "\n",
    "def generatekeylist(wikiname):\n",
    "    data = open('../wiki/' + wikiname + '.wiki', 'r').read()\n",
    "    bibkeylist = list(set(re.findall('\\[\\{(.*?)\\}\\]', data)))\n",
    "    bibkeylist.sort()\n",
    "    return bibkeylist"
   ]
  },
  {
   "cell_type": "code",
   "execution_count": 5,
   "metadata": {
    "collapsed": false
   },
   "outputs": [
    {
     "data": {
      "text/plain": [
       "[]"
      ]
     },
     "execution_count": 5,
     "metadata": {},
     "output_type": "execute_result"
    }
   ],
   "source": [
    "generatekeylist('q_analogs')"
   ]
  },
  {
   "cell_type": "code",
   "execution_count": 10,
   "metadata": {
    "collapsed": false
   },
   "outputs": [
    {
     "data": {
      "text/plain": [
       "['b', 'c', 'd']"
      ]
     },
     "execution_count": 10,
     "metadata": {},
     "output_type": "execute_result"
    }
   ],
   "source": [
    "a = '[{abacad]'\n",
    "#re.search('\\{', a).group(0)\n",
    "re.findall('a(\\w)', a)"
   ]
  },
  {
   "cell_type": "code",
   "execution_count": 15,
   "metadata": {
    "collapsed": false
   },
   "outputs": [
    {
     "data": {
      "text/plain": [
       "'<h2>References</h2><ul>\\n<li>\\n<span class=\"title\">Young Tableaux</span>,<br><span class=\"author\">W. Fulton</span>,<br><span class=\"year\"> 1997</span>.</li>\\n\\n<li>\\n<span class=\"title\">Some partitions associated with a partially ordered set</span>,<br><span class=\"author\">Curtis Greene</span>,<br><i>Journal of Combinatorial Theory, Series A</i>, Vol. 20, No. 1, p.69&ndash;79<span class=\"year\"> 1976</span>.</li>\\n\\n<li>\\n<span class=\"title\">Some problems in stochastic analysis: Itô\\'s formula for convex functions, interacting particle systems and Dyson\\'s Brownian motion</span>,<br><span class=\"author\">Nastasiya Grinberg</span>,<br>PhD thesis, University of Warwick<span class=\"year\"> 2011</span>.<br>\\n[&nbsp;<a href=\"http://wrap.warwick.ac.uk/35249/\">link</a>&nbsp;]\\n</li>\\n\\n<li>\\n<span class=\"title\">Enumerative Combinatorics</span>,<br><span class=\"author\">Richard Stanley</span>,<br>, Vol. 2<span class=\"year\"> 2001</span>.</li>\\n</ul>'"
      ]
     },
     "execution_count": 15,
     "metadata": {},
     "output_type": "execute_result"
    }
   ],
   "source": [
    "generatereflist('robinson_schensted')"
   ]
  },
  {
   "cell_type": "code",
   "execution_count": null,
   "metadata": {
    "collapsed": true
   },
   "outputs": [],
   "source": []
  }
 ],
 "metadata": {
  "kernelspec": {
   "display_name": "Python 3",
   "language": "python",
   "name": "python3"
  },
  "language_info": {
   "codemirror_mode": {
    "name": "ipython",
    "version": 3
   },
   "file_extension": ".py",
   "mimetype": "text/x-python",
   "name": "python",
   "nbconvert_exporter": "python",
   "pygments_lexer": "ipython3",
   "version": "3.6.0"
  }
 },
 "nbformat": 4,
 "nbformat_minor": 2
}
